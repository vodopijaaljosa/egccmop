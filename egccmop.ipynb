{
 "cells": [
  {
   "cell_type": "markdown",
   "metadata": {},
   "source": [
    "## Elevator Group Control as a Constrained Multiobjective Optimization Problem\n",
    "\n",
    "**NOTE:** This Jupyter Notebook is a supplementary material to the paper:\n",
    "\n",
    "> [1] A. Vodopija, J. Stork, T. Bartz-Beielstein, B. Filipič. Elevator group control as a constrained multiobjective optimization problem, *Applied Soft Computing*.\n",
    "\n",
    "It's recommended to read this paper for a better understanding of the following content.\n",
    "\n",
    "### 1. SETUP\n",
    "#### 1.1. Prerequisites\n",
    "\n",
    "The `Rcpp` and `emoa` packages are required to run the S-Ring simulations and to experiment with Differential Evolution for Multiobjective Optimization (DEMO).  \n",
    "\n",
    "For other tasks you need: \n",
    "- `mco`: To experiment with Nondominated Sorting Genetic Algorithm II (NSGA-II).\n",
    "- `MOEADr`: To experiment with Multiobjective Optimization Evolutionary Algorithm based on Decomposition (MOEA/D). \n",
    "- `SPOT`: For parameter tuning with Sequential Parameter Optimization Toolbox (SPOT).\n",
    "\n",
    "For more efficent computations and nicer plots:\n",
    "- `memoise`: To efficiently execute the S-Ring simulations.\n",
    "- `ggplot2`: For nicer plots. \n",
    "\n",
    "#### 1.2. Installation\n",
    "\n",
    "The package can be installed by running the following cell (`devtools` is required). "
   ]
  },
  {
   "cell_type": "code",
   "execution_count": null,
   "metadata": {},
   "outputs": [],
   "source": [
    "devtools::install_github(\"https://github.com/vodopijaaljosa/egccmop\")"
   ]
  },
  {
   "cell_type": "markdown",
   "metadata": {},
   "source": [
    "The installation procedure will automatically install `Rcpp` and `emoa`. Other packages are optional they and can be installed using `install.packages(\"pkg\")`. See Section 1.1 to select the packages you are interested in.\n",
    "\n",
    "Once the installation is completed, the package functionalities can be imported by running the following cell. "
   ]
  },
  {
   "cell_type": "code",
   "execution_count": null,
   "metadata": {},
   "outputs": [],
   "source": [
    "library(egccmop)"
   ]
  },
  {
   "cell_type": "markdown",
   "metadata": {},
   "source": [
    "You're done! You can start experimenting.\n",
    "\n",
    "### 2. S-RING\n",
    "\n",
    "In this part, you'll run an S-Ring simulation to compute the objective and constraint values, but first, let's see how to define a new elevator group control (EGC) configuration. For more details on S-Ring see Section 3 in [1].\n",
    "\n",
    "#### 2.1. Elevator group control configurations\n",
    "\n",
    "You can define a custom EGC configuration as shown below. The following parameters are mandatory:\n",
    "- `no.floors`: An integer denoting the number of floors. It is reasonable to pick up to 50 floors. For larger configurations the simulation becomes time consuming. \n",
    "- `no.elevators`: An integer denoting the number of elevators. It should be smaller than the number of floors.\n",
    "- `prob`: A float from [0,0.3] representing the probability of a newly arriving customer."
   ]
  },
  {
   "cell_type": "code",
   "execution_count": null,
   "metadata": {},
   "outputs": [],
   "source": [
    "config <- list(no.floors    = 5,\n",
    "               no.elevators = 3,  \n",
    "               prob         = 0.1)"
   ]
  },
  {
   "cell_type": "markdown",
   "metadata": {},
   "source": [
    "#### 2.2. Computation of objective and constraint values\n",
    "\n",
    "Let's compute the objective and constraint values for a given solution (perceptron weights) of the EGC problem defined above. \n",
    "\n",
    "The input parameters for the function performing the S-Ring simulations are:\n",
    "- `config`: A list representing an elevator group control configuration (see Section 2.1 of this notebook).\n",
    "- `weights`: A vector of perceptron weights. Vector components take values from [-1,1].\n",
    "- `no.cycles`: An integer denoting the number of cycles used in the S-Ring simulation. It should take values from  [1e3,1e5]. Default is 1e4.\n",
    "\n",
    "The first element of the output is the proportion of states with waiting customers ($f_1$), the second the proportion of elevator stops ($f_2$), and the last one the maximal number of skips ($c$). For more details on objectives and constraints see Section 4 in [1]. "
   ]
  },
  {
   "cell_type": "code",
   "execution_count": null,
   "metadata": {},
   "outputs": [],
   "source": [
    "weights <- c(-0.8, -1, 0.8, -0.2, -0.9, 0, -0.4, 0.8, 1, 1, -0.2, -0.8, 1, -1, 0.8, -1)\n",
    "objs    <- sring(config    = config, \n",
    "                 weights   = weights,\n",
    "                 no.cycles = 1e4)\n",
    "print(objs)"
   ]
  },
  {
   "cell_type": "markdown",
   "metadata": {},
   "source": [
    "### 3. OPTIMIZATION\n",
    "\n",
    "Now, let's see how to run an optimization procedure. See [1], Section 5.2 for more details on the optimization algorithms and their settings.\n",
    "\n",
    "#### 3.1. Parameter settings\n",
    "\n",
    "First, let's select the values of control parameters, i.e., the algorithm parameters and the number of cycles used in the S-Ring simulations.\n",
    "- `pop.size`: An integer denoting the number of solutions used by the optimization algorithm. Default is 100.\n",
    "- `no.iters`: An integer denoting the number of iterations (generations) used by the optimization algorithm. Default is 100.\n",
    "- `cross.prob`: A float from [0,1] denoting the crossover probability. Default is 0.9. \n",
    "- `mut.prob`: A float from [0,1] denoting the mutation probability. For DEMO this is the scaling factor ($F$). Default is 0.1 for NSGA-II and MOEA/D, while 0.7 for DEMO.\n",
    "- `no.cycles`: An integer denoting the number of cycles used in the S-Ring simulation. It should take values from  [1e3,1e5]. Default is 1e4.\n",
    "\n",
    "**NOTE:** Default values are used for unspecified parameters.  "
   ]
  },
  {
   "cell_type": "code",
   "execution_count": null,
   "metadata": {},
   "outputs": [],
   "source": [
    "control <- list(pop.size   = 100, \n",
    "                no.iters   = 50,\n",
    "                cross.prob = 0.9,\n",
    "                mut.prob   = 0.1,\n",
    "                no.cycles  = 1e3)"
   ]
  },
  {
   "cell_type": "markdown",
   "metadata": {},
   "source": [
    "#### 3.2. Run the optimization\n",
    "\n",
    "The function `opt` performs the optimization procedure.\n",
    "\n",
    "Its input parameters are:\n",
    "- `config`: A list representing an elevator group control configuration (see Section 2.1 of this notebook).\n",
    "- `method`: A string indicating the used optimization algorithm. It can be NSGA-II (\"nsga2\"), DEMO (\"demo\") or MOEA/D (\"moead\"). Default is DEMO.\n",
    "- `control`: A list of control parameters (see Section 3.1 of this notebook).\n",
    "- `no.runs`: An integer denoting the number of runs. Default is 1. \n",
    "\n",
    "The output of the function is a list of data frames storing the objective values of all nonodominated feasible solutions found during each run."
   ]
  },
  {
   "cell_type": "code",
   "execution_count": null,
   "metadata": {},
   "outputs": [],
   "source": [
    "pfs <- opt(config  = config, \n",
    "           method  = \"nsga2\", \n",
    "           control = control,\n",
    "           no.runs = 3)"
   ]
  },
  {
   "cell_type": "markdown",
   "metadata": {},
   "source": [
    "### 4. HYPERVOLUME STATISTICS\n",
    "\n",
    "The following function summarizes the results. First, it computes the hypervolume values of all runs (all nondominated feasible solutions found during the entire run are used). Then, it derives six statistics: Minimum, 1st Quartile, Median, Mean, 3rd Quartile, Maximum. "
   ]
  },
  {
   "cell_type": "code",
   "execution_count": null,
   "metadata": {},
   "outputs": [],
   "source": [
    "compute_hv_stats(pfs)"
   ]
  },
  {
   "cell_type": "markdown",
   "metadata": {},
   "source": [
    "### 5. PARETO FRONT APPROXIMATIONS\n",
    "\n",
    "You can plot the obtained Pareto front approximations by running the following cell. The `run` parameter is used to select which run to depict in the plot. "
   ]
  },
  {
   "cell_type": "code",
   "execution_count": null,
   "metadata": {},
   "outputs": [],
   "source": [
    "make_plot(pfs, run = 2)"
   ]
  },
  {
   "cell_type": "markdown",
   "metadata": {},
   "source": [
    "### 6. PARAMETER TUNING\n",
    "\n",
    "**NOTE:** In this section, `SPOT` package is required.\n",
    "\n",
    "#### 6.1. Tuning algorithm parameters\n",
    "\n",
    "This section shows how to tune the algorithm parameters. See [1], Section 5.2 for more details on parameter tuning.\n",
    "\n",
    "The input parameters of the tuning process are:\n",
    "- `config`: A list representing an elevator group control configuration (see Section 2.1 of this notebook).\n",
    "- `method`: A string indicating the used optimization algorithm. It can be NSGA-II (\"nsga2\"), DEMO (\"demo\") or MOEA/D (\"moead\"). Default is DEMO.\n",
    "- `no.cycles`: An integer denoting the number of cycles used in the S-Ring simulation. It should take values from  [1e3,1e5]. Default is 1e4.\n",
    "- `spot.config`: A list of SPOT settings. See the SPOT documentation for more details (<https://cran.r-project.org/web/packages/SPOT/index.html>). \n",
    "\n",
    "The following SPOT settings were used in the experiments reported in [1]. \n",
    "\n",
    "**NOTE:** Here, the parameter `funEvals` is reduced for faster computations!"
   ]
  },
  {
   "cell_type": "code",
   "execution_count": null,
   "metadata": {},
   "outputs": [],
   "source": [
    "spot.config <- list(types            = c(\"numeric\", \"numeric\", \"numeric\"),\n",
    "                    funEvals         = 15, # In the paper experiments 'funEvals' was set to 50 \n",
    "                    noise            = TRUE,\n",
    "                    seedFun          = 1,\n",
    "                    seedSPOT         = 1,\n",
    "                    replicates       = 1,\n",
    "                    design           = designLHD,\n",
    "                    model            = buildKriging,\n",
    "                    optimizer        = optimDE,\n",
    "                    optimizerControl = list(funEvals = 1000))"
   ]
  },
  {
   "cell_type": "markdown",
   "metadata": {},
   "source": [
    "Run the following cell to tune the parameters."
   ]
  },
  {
   "cell_type": "code",
   "execution_count": null,
   "metadata": {},
   "outputs": [],
   "source": [
    "control.tuned <- param_tuning(config      = config, \n",
    "                              method      = \"demo\",\n",
    "                              no.cycles   = 1e3,\n",
    "                              spot.config = spot.config)"
   ]
  },
  {
   "cell_type": "markdown",
   "metadata": {},
   "source": [
    "#### 6.2. Re-run the optimization using the tuned parameters\n",
    "\n",
    "Let's re-run the optimization with the tuned parameters. "
   ]
  },
  {
   "cell_type": "code",
   "execution_count": null,
   "metadata": {},
   "outputs": [],
   "source": [
    "pfs.tuned <- opt(config  = config, \n",
    "                 method  = \"demo\", \n",
    "                 control = control.tuned,\n",
    "                 no.runs = 3)"
   ]
  },
  {
   "cell_type": "markdown",
   "metadata": {},
   "source": [
    "Finally, let's compare the results obtained before and after the tuning. "
   ]
  },
  {
   "cell_type": "code",
   "execution_count": null,
   "metadata": {},
   "outputs": [],
   "source": [
    "hv.stats           <- rbind(compute_hv_stats(pfs), compute_hv_stats(pfs.tuned)) \n",
    "rownames(hv.stats) <- c(\"before\", \"after\")\n",
    "print(hv.stats)"
   ]
  }
 ],
 "metadata": {
  "kernelspec": {
   "display_name": "R",
   "language": "R",
   "name": "ir"
  },
  "language_info": {
   "codemirror_mode": "r",
   "file_extension": ".r",
   "mimetype": "text/x-r-source",
   "name": "R",
   "pygments_lexer": "r",
   "version": "4.0.0"
  }
 },
 "nbformat": 4,
 "nbformat_minor": 4
}
